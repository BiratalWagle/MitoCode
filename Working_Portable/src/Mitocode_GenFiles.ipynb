{
 "cells": [
  {
   "cell_type": "code",
   "execution_count": 23,
   "metadata": {},
   "outputs": [],
   "source": [
    "import numpy as np\n",
    "import matplotlib.pyplot as plt \n",
    "import pandas as pd\n",
    "from pathlib import Path\n",
    "import os\n",
    "from MitoCode_Functions import GetData\n",
    "import imageio\n",
    "# imports   "
   ]
  },
  {
   "attachments": {},
   "cell_type": "markdown",
   "metadata": {},
   "source": [
    "# Generate the tif Files for Mitograph given an LSM"
   ]
  },
  {
   "cell_type": "code",
   "execution_count": 24,
   "metadata": {},
   "outputs": [],
   "source": [
    "import tifffile\n",
    "\n",
    "# Load LSM file into memory\n",
    "directory = '/home/biratal/Desktop/'\n",
    "nameOfLsm = 'ANTPOST052'\n",
    "lsm_file = tifffile.TiffFile(directory + nameOfLsm + '.lsm')\n",
    "\n",
    "# Get the images from the LSM file\n",
    "images = lsm_file.asarray()"
   ]
  },
  {
   "cell_type": "code",
   "execution_count": 28,
   "metadata": {},
   "outputs": [],
   "source": [
    "tif1 = images[:, 0, :, :]\n",
    "tif2 = images[:, 1, :, :]\n",
    "tif3 = images[:, 2, :, :]\n",
    "\n",
    "if os.path.exists(directory + 'AnalysisFiles_' + nameOfLsm) == False: \n",
    "    os.mkdir(directory + 'AnalysisFiles_' + nameOfLsm)\n",
    "\n",
    "tif_dir = \"/home/biratal/Desktop/AnalysisFiles_\" + nameOfLsm \n",
    "try: \n",
    "    os.mkdir(tif_dir + \"/tif1\")\n",
    "    os.mkdir(tif_dir + \"/tif2\")\n",
    "    os.mkdir(tif_dir + \"/tif3\")\n",
    "except: \n",
    "    FileExistsError\n",
    "\n",
    "\n",
    "tifffile.imwrite(tif_dir + \"/tif1/\" + nameOfLsm + \"_tif1.tif\", tif1, bigtiff=True)\n",
    "tifffile.imwrite(tif_dir + \"/tif2/\" + nameOfLsm + \"_tif2.tif\", tif2, bigtiff=True)\n",
    "tifffile.imwrite(tif_dir + \"/tif3/\" + nameOfLsm + \"_tif3.tif\", tif3, bigtiff=True)\n"
   ]
  },
  {
   "cell_type": "code",
   "execution_count": 34,
   "metadata": {},
   "outputs": [
    {
     "name": "stdout",
     "output_type": "stream",
     "text": [
      "[Starting MitoGraph v3.0]\n",
      "1 files found. MitoGraph is running...\n",
      "/home/biratal/Desktop/AnalysisFiles_ANTPOST052/tif3/ANTPOST052_tif3\t[done]\n",
      "Process complete. Exiting MitoGraph...\n"
     ]
    },
    {
     "data": {
      "text/plain": [
       "0"
      ]
     },
     "execution_count": 34,
     "metadata": {},
     "output_type": "execute_result"
    }
   ],
   "source": [
    "mitograhpDirectory = \"/home/biratal/Desktop/MitoGraph/build/\"\n",
    "os.chdir(mitograhpDirectory)\n",
    "os.system(\"./MitoGraph -xy 0.104 -z 0.5 -path \" + tif_dir + \"/tif3 -analyze\" )"
   ]
  },
  {
   "cell_type": "code",
   "execution_count": 32,
   "metadata": {},
   "outputs": [
    {
     "data": {
      "text/plain": [
       "'./MitoGraph -xy 0.104 -z 0.5 -path /home/biratal/Desktop/AnalysisFiles_ANTPOST052/tif3- analyze'"
      ]
     },
     "execution_count": 32,
     "metadata": {},
     "output_type": "execute_result"
    }
   ],
   "source": []
  },
  {
   "cell_type": "code",
   "execution_count": null,
   "metadata": {},
   "outputs": [],
   "source": []
  }
 ],
 "metadata": {
  "kernelspec": {
   "display_name": "Python 3",
   "language": "python",
   "name": "python3"
  },
  "language_info": {
   "codemirror_mode": {
    "name": "ipython",
    "version": 3
   },
   "file_extension": ".py",
   "mimetype": "text/x-python",
   "name": "python",
   "nbconvert_exporter": "python",
   "pygments_lexer": "ipython3",
   "version": "3.10.6"
  },
  "orig_nbformat": 4,
  "vscode": {
   "interpreter": {
    "hash": "916dbcbb3f70747c44a77c7bcd40155683ae19c65e1c03b4aa3499c5328201f1"
   }
  }
 },
 "nbformat": 4,
 "nbformat_minor": 2
}
